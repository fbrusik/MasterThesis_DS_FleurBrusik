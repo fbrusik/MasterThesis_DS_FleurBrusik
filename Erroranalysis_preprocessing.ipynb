{
  "cells": [
    {
      "cell_type": "code",
      "execution_count": null,
      "metadata": {
        "id": "Y1mzs2vmom67"
      },
      "outputs": [],
      "source": [
        "import pandas as pd\n",
        "import os\n",
        "import numpy as np\n",
        "# import fastf1\n",
        "from keras.preprocessing.sequence import TimeseriesGenerator\n",
        "pd.set_option('display.max_columns', None)\n",
        "from sklearn.preprocessing import OneHotEncoder\n",
        "from sklearn.preprocessing import StandardScaler\n",
        "from sklearn.preprocessing import MultiLabelBinarizer\n",
        "from sklearn.preprocessing import MultiLabelBinarizer"
      ]
    },
    {
      "cell_type": "code",
      "execution_count": null,
      "metadata": {
        "colab": {
          "base_uri": "https://localhost:8080/"
        },
        "id": "uwit8zEaolU4",
        "outputId": "28c4416e-a1bc-48c2-9bc2-32ca7847094e"
      },
      "outputs": [
        {
          "name": "stderr",
          "output_type": "stream",
          "text": [
            "<ipython-input-11-c2e2fc0e7eb3>:1: DtypeWarning: Columns (28) have mixed types. Specify dtype option on import or set low_memory=False.\n",
            "  df_complete = pd.read_csv(\"complete_data.csv\")\n"
          ]
        }
      ],
      "source": [
        "df_complete = pd.read_csv(\"complete_data.csv\")"
      ]
    },
    {
      "cell_type": "markdown",
      "metadata": {
        "id": "RAP9ieoSr_n9"
      },
      "source": [
        "# EDA"
      ]
    },
    {
      "cell_type": "code",
      "execution_count": null,
      "metadata": {
        "colab": {
          "base_uri": "https://localhost:8080/"
        },
        "id": "hjbezCpIsBbm",
        "outputId": "44367b9c-5fea-4ab0-8401-1d17bce223f2"
      },
      "outputs": [
        {
          "name": "stdout",
          "output_type": "stream",
          "text": [
            "(136122, 39)\n"
          ]
        }
      ],
      "source": [
        "print(df_complete.shape)"
      ]
    },
    {
      "cell_type": "code",
      "execution_count": null,
      "metadata": {
        "colab": {
          "base_uri": "https://localhost:8080/",
          "height": 313
        },
        "id": "M9IulDdlsBUO",
        "outputId": "3c4a8015-ee5c-40a4-abf4-50f2c172a6a3"
      },
      "outputs": [
        {
          "data": {
            "application/vnd.google.colaboratory.intrinsic+json": {
              "type": "dataframe",
              "variable_name": "df_complete"
            },
            "text/html": [
              "\n",
              "  <div id=\"df-3d6b87a7-899a-40c5-b702-5d3585bb84a8\" class=\"colab-df-container\">\n",
              "    <div>\n",
              "<style scoped>\n",
              "    .dataframe tbody tr th:only-of-type {\n",
              "        vertical-align: middle;\n",
              "    }\n",
              "\n",
              "    .dataframe tbody tr th {\n",
              "        vertical-align: top;\n",
              "    }\n",
              "\n",
              "    .dataframe thead th {\n",
              "        text-align: right;\n",
              "    }\n",
              "</style>\n",
              "<table border=\"1\" class=\"dataframe\">\n",
              "  <thead>\n",
              "    <tr style=\"text-align: right;\">\n",
              "      <th></th>\n",
              "      <th>Time</th>\n",
              "      <th>Driver</th>\n",
              "      <th>DriverNumber</th>\n",
              "      <th>LapTime</th>\n",
              "      <th>LapNumber</th>\n",
              "      <th>Stint</th>\n",
              "      <th>PitOutTime</th>\n",
              "      <th>PitInTime</th>\n",
              "      <th>Sector1Time</th>\n",
              "      <th>Sector2Time</th>\n",
              "      <th>Sector3Time</th>\n",
              "      <th>Sector1SessionTime</th>\n",
              "      <th>Sector2SessionTime</th>\n",
              "      <th>Sector3SessionTime</th>\n",
              "      <th>SpeedI1</th>\n",
              "      <th>SpeedI2</th>\n",
              "      <th>SpeedFL</th>\n",
              "      <th>SpeedST</th>\n",
              "      <th>IsPersonalBest</th>\n",
              "      <th>Compound</th>\n",
              "      <th>TyreLife</th>\n",
              "      <th>FreshTyre</th>\n",
              "      <th>Team</th>\n",
              "      <th>LapStartTime</th>\n",
              "      <th>LapStartDate</th>\n",
              "      <th>TrackStatus</th>\n",
              "      <th>Position</th>\n",
              "      <th>Deleted</th>\n",
              "      <th>DeletedReason</th>\n",
              "      <th>FastF1Generated</th>\n",
              "      <th>IsAccurate</th>\n",
              "      <th>uid</th>\n",
              "      <th>AirTemp</th>\n",
              "      <th>Humidity</th>\n",
              "      <th>Pressure</th>\n",
              "      <th>Rainfall</th>\n",
              "      <th>TrackTemp</th>\n",
              "      <th>WindDirection</th>\n",
              "      <th>WindSpeed</th>\n",
              "    </tr>\n",
              "  </thead>\n",
              "  <tbody>\n",
              "    <tr>\n",
              "      <th>0</th>\n",
              "      <td>0 days 00:08:53.241000</td>\n",
              "      <td>GAS</td>\n",
              "      <td>10</td>\n",
              "      <td>0 days 00:01:45.060000</td>\n",
              "      <td>1.0</td>\n",
              "      <td>NaN</td>\n",
              "      <td>NaN</td>\n",
              "      <td>NaN</td>\n",
              "      <td>NaN</td>\n",
              "      <td>0 days 00:00:25.495000</td>\n",
              "      <td>0 days 00:00:37.955000</td>\n",
              "      <td>NaN</td>\n",
              "      <td>0 days 00:08:15.609000</td>\n",
              "      <td>0 days 00:08:53.829000</td>\n",
              "      <td>257.0</td>\n",
              "      <td>283.0</td>\n",
              "      <td>286.0</td>\n",
              "      <td>237.0</td>\n",
              "      <td>False</td>\n",
              "      <td>NaN</td>\n",
              "      <td>NaN</td>\n",
              "      <td>True</td>\n",
              "      <td>Toro Rosso</td>\n",
              "      <td>0 days 00:07:07.988000</td>\n",
              "      <td>2018-03-25 05:13:19.169</td>\n",
              "      <td>1.0</td>\n",
              "      <td>17.0</td>\n",
              "      <td>False</td>\n",
              "      <td>NaN</td>\n",
              "      <td>False</td>\n",
              "      <td>False</td>\n",
              "      <td>2018_1</td>\n",
              "      <td>24.2</td>\n",
              "      <td>36.3</td>\n",
              "      <td>997.0</td>\n",
              "      <td>False</td>\n",
              "      <td>38.9</td>\n",
              "      <td>307</td>\n",
              "      <td>4.1</td>\n",
              "    </tr>\n",
              "    <tr>\n",
              "      <th>1</th>\n",
              "      <td>0 days 00:10:26.613000</td>\n",
              "      <td>GAS</td>\n",
              "      <td>10</td>\n",
              "      <td>0 days 00:01:33.372000</td>\n",
              "      <td>2.0</td>\n",
              "      <td>1.0</td>\n",
              "      <td>NaN</td>\n",
              "      <td>NaN</td>\n",
              "      <td>0 days 00:00:31.357000</td>\n",
              "      <td>0 days 00:00:24.825000</td>\n",
              "      <td>0 days 00:00:37.190000</td>\n",
              "      <td>0 days 00:09:24.632000</td>\n",
              "      <td>0 days 00:09:49.457000</td>\n",
              "      <td>0 days 00:10:26.647000</td>\n",
              "      <td>266.0</td>\n",
              "      <td>286.0</td>\n",
              "      <td>277.0</td>\n",
              "      <td>270.0</td>\n",
              "      <td>True</td>\n",
              "      <td>ULTRASOFT</td>\n",
              "      <td>1.0</td>\n",
              "      <td>True</td>\n",
              "      <td>Toro Rosso</td>\n",
              "      <td>0 days 00:08:53.241000</td>\n",
              "      <td>2018-03-25 05:15:04.422</td>\n",
              "      <td>1.0</td>\n",
              "      <td>17.0</td>\n",
              "      <td>False</td>\n",
              "      <td>NaN</td>\n",
              "      <td>False</td>\n",
              "      <td>True</td>\n",
              "      <td>2018_1</td>\n",
              "      <td>24.2</td>\n",
              "      <td>36.3</td>\n",
              "      <td>996.9</td>\n",
              "      <td>False</td>\n",
              "      <td>38.2</td>\n",
              "      <td>296</td>\n",
              "      <td>3.8</td>\n",
              "    </tr>\n",
              "    <tr>\n",
              "      <th>2</th>\n",
              "      <td>0 days 00:11:59.474000</td>\n",
              "      <td>GAS</td>\n",
              "      <td>10</td>\n",
              "      <td>0 days 00:01:32.861000</td>\n",
              "      <td>3.0</td>\n",
              "      <td>1.0</td>\n",
              "      <td>NaN</td>\n",
              "      <td>NaN</td>\n",
              "      <td>0 days 00:00:31.160000</td>\n",
              "      <td>0 days 00:00:24.725000</td>\n",
              "      <td>0 days 00:00:36.976000</td>\n",
              "      <td>0 days 00:10:57.807000</td>\n",
              "      <td>0 days 00:11:22.532000</td>\n",
              "      <td>0 days 00:11:59.508000</td>\n",
              "      <td>260.0</td>\n",
              "      <td>283.0</td>\n",
              "      <td>294.0</td>\n",
              "      <td>277.0</td>\n",
              "      <td>True</td>\n",
              "      <td>ULTRASOFT</td>\n",
              "      <td>2.0</td>\n",
              "      <td>True</td>\n",
              "      <td>Toro Rosso</td>\n",
              "      <td>0 days 00:10:26.613000</td>\n",
              "      <td>2018-03-25 05:16:37.794</td>\n",
              "      <td>1.0</td>\n",
              "      <td>17.0</td>\n",
              "      <td>False</td>\n",
              "      <td>NaN</td>\n",
              "      <td>False</td>\n",
              "      <td>True</td>\n",
              "      <td>2018_1</td>\n",
              "      <td>23.9</td>\n",
              "      <td>36.5</td>\n",
              "      <td>997.1</td>\n",
              "      <td>False</td>\n",
              "      <td>36.7</td>\n",
              "      <td>289</td>\n",
              "      <td>4.3</td>\n",
              "    </tr>\n",
              "    <tr>\n",
              "      <th>3</th>\n",
              "      <td>0 days 00:13:31.658000</td>\n",
              "      <td>GAS</td>\n",
              "      <td>10</td>\n",
              "      <td>0 days 00:01:32.184000</td>\n",
              "      <td>4.0</td>\n",
              "      <td>1.0</td>\n",
              "      <td>NaN</td>\n",
              "      <td>NaN</td>\n",
              "      <td>0 days 00:00:30.835000</td>\n",
              "      <td>0 days 00:00:24.730000</td>\n",
              "      <td>0 days 00:00:36.619000</td>\n",
              "      <td>0 days 00:12:30.343000</td>\n",
              "      <td>0 days 00:12:55.073000</td>\n",
              "      <td>0 days 00:13:31.692000</td>\n",
              "      <td>264.0</td>\n",
              "      <td>283.0</td>\n",
              "      <td>294.0</td>\n",
              "      <td>296.0</td>\n",
              "      <td>True</td>\n",
              "      <td>ULTRASOFT</td>\n",
              "      <td>3.0</td>\n",
              "      <td>True</td>\n",
              "      <td>Toro Rosso</td>\n",
              "      <td>0 days 00:11:59.474000</td>\n",
              "      <td>2018-03-25 05:18:10.655</td>\n",
              "      <td>1.0</td>\n",
              "      <td>17.0</td>\n",
              "      <td>False</td>\n",
              "      <td>NaN</td>\n",
              "      <td>False</td>\n",
              "      <td>True</td>\n",
              "      <td>2018_1</td>\n",
              "      <td>23.8</td>\n",
              "      <td>35.7</td>\n",
              "      <td>997.1</td>\n",
              "      <td>False</td>\n",
              "      <td>36.6</td>\n",
              "      <td>210</td>\n",
              "      <td>2.7</td>\n",
              "    </tr>\n",
              "    <tr>\n",
              "      <th>4</th>\n",
              "      <td>0 days 00:15:03.990000</td>\n",
              "      <td>GAS</td>\n",
              "      <td>10</td>\n",
              "      <td>0 days 00:01:32.332000</td>\n",
              "      <td>5.0</td>\n",
              "      <td>1.0</td>\n",
              "      <td>NaN</td>\n",
              "      <td>NaN</td>\n",
              "      <td>0 days 00:00:30.716000</td>\n",
              "      <td>0 days 00:00:24.821000</td>\n",
              "      <td>0 days 00:00:36.795000</td>\n",
              "      <td>0 days 00:14:02.408000</td>\n",
              "      <td>0 days 00:14:27.229000</td>\n",
              "      <td>0 days 00:15:04.024000</td>\n",
              "      <td>266.0</td>\n",
              "      <td>283.0</td>\n",
              "      <td>283.0</td>\n",
              "      <td>295.0</td>\n",
              "      <td>False</td>\n",
              "      <td>ULTRASOFT</td>\n",
              "      <td>4.0</td>\n",
              "      <td>True</td>\n",
              "      <td>Toro Rosso</td>\n",
              "      <td>0 days 00:13:31.658000</td>\n",
              "      <td>2018-03-25 05:19:42.839</td>\n",
              "      <td>2.0</td>\n",
              "      <td>17.0</td>\n",
              "      <td>False</td>\n",
              "      <td>NaN</td>\n",
              "      <td>False</td>\n",
              "      <td>True</td>\n",
              "      <td>2018_1</td>\n",
              "      <td>23.5</td>\n",
              "      <td>36.3</td>\n",
              "      <td>997.2</td>\n",
              "      <td>False</td>\n",
              "      <td>36.4</td>\n",
              "      <td>267</td>\n",
              "      <td>2.5</td>\n",
              "    </tr>\n",
              "  </tbody>\n",
              "</table>\n",
              "</div>\n",
              "    <div class=\"colab-df-buttons\">\n",
              "\n",
              "  <div class=\"colab-df-container\">\n",
              "    <button class=\"colab-df-convert\" onclick=\"convertToInteractive('df-3d6b87a7-899a-40c5-b702-5d3585bb84a8')\"\n",
              "            title=\"Convert this dataframe to an interactive table.\"\n",
              "            style=\"display:none;\">\n",
              "\n",
              "  <svg xmlns=\"http://www.w3.org/2000/svg\" height=\"24px\" viewBox=\"0 -960 960 960\">\n",
              "    <path d=\"M120-120v-720h720v720H120Zm60-500h600v-160H180v160Zm220 220h160v-160H400v160Zm0 220h160v-160H400v160ZM180-400h160v-160H180v160Zm440 0h160v-160H620v160ZM180-180h160v-160H180v160Zm440 0h160v-160H620v160Z\"/>\n",
              "  </svg>\n",
              "    </button>\n",
              "\n",
              "  <style>\n",
              "    .colab-df-container {\n",
              "      display:flex;\n",
              "      gap: 12px;\n",
              "    }\n",
              "\n",
              "    .colab-df-convert {\n",
              "      background-color: #E8F0FE;\n",
              "      border: none;\n",
              "      border-radius: 50%;\n",
              "      cursor: pointer;\n",
              "      display: none;\n",
              "      fill: #1967D2;\n",
              "      height: 32px;\n",
              "      padding: 0 0 0 0;\n",
              "      width: 32px;\n",
              "    }\n",
              "\n",
              "    .colab-df-convert:hover {\n",
              "      background-color: #E2EBFA;\n",
              "      box-shadow: 0px 1px 2px rgba(60, 64, 67, 0.3), 0px 1px 3px 1px rgba(60, 64, 67, 0.15);\n",
              "      fill: #174EA6;\n",
              "    }\n",
              "\n",
              "    .colab-df-buttons div {\n",
              "      margin-bottom: 4px;\n",
              "    }\n",
              "\n",
              "    [theme=dark] .colab-df-convert {\n",
              "      background-color: #3B4455;\n",
              "      fill: #D2E3FC;\n",
              "    }\n",
              "\n",
              "    [theme=dark] .colab-df-convert:hover {\n",
              "      background-color: #434B5C;\n",
              "      box-shadow: 0px 1px 3px 1px rgba(0, 0, 0, 0.15);\n",
              "      filter: drop-shadow(0px 1px 2px rgba(0, 0, 0, 0.3));\n",
              "      fill: #FFFFFF;\n",
              "    }\n",
              "  </style>\n",
              "\n",
              "    <script>\n",
              "      const buttonEl =\n",
              "        document.querySelector('#df-3d6b87a7-899a-40c5-b702-5d3585bb84a8 button.colab-df-convert');\n",
              "      buttonEl.style.display =\n",
              "        google.colab.kernel.accessAllowed ? 'block' : 'none';\n",
              "\n",
              "      async function convertToInteractive(key) {\n",
              "        const element = document.querySelector('#df-3d6b87a7-899a-40c5-b702-5d3585bb84a8');\n",
              "        const dataTable =\n",
              "          await google.colab.kernel.invokeFunction('convertToInteractive',\n",
              "                                                    [key], {});\n",
              "        if (!dataTable) return;\n",
              "\n",
              "        const docLinkHtml = 'Like what you see? Visit the ' +\n",
              "          '<a target=\"_blank\" href=https://colab.research.google.com/notebooks/data_table.ipynb>data table notebook</a>'\n",
              "          + ' to learn more about interactive tables.';\n",
              "        element.innerHTML = '';\n",
              "        dataTable['output_type'] = 'display_data';\n",
              "        await google.colab.output.renderOutput(dataTable, element);\n",
              "        const docLink = document.createElement('div');\n",
              "        docLink.innerHTML = docLinkHtml;\n",
              "        element.appendChild(docLink);\n",
              "      }\n",
              "    </script>\n",
              "  </div>\n",
              "\n",
              "\n",
              "<div id=\"df-04802553-62c1-4640-80d4-5dd5730c54ae\">\n",
              "  <button class=\"colab-df-quickchart\" onclick=\"quickchart('df-04802553-62c1-4640-80d4-5dd5730c54ae')\"\n",
              "            title=\"Suggest charts\"\n",
              "            style=\"display:none;\">\n",
              "\n",
              "<svg xmlns=\"http://www.w3.org/2000/svg\" height=\"24px\"viewBox=\"0 0 24 24\"\n",
              "     width=\"24px\">\n",
              "    <g>\n",
              "        <path d=\"M19 3H5c-1.1 0-2 .9-2 2v14c0 1.1.9 2 2 2h14c1.1 0 2-.9 2-2V5c0-1.1-.9-2-2-2zM9 17H7v-7h2v7zm4 0h-2V7h2v10zm4 0h-2v-4h2v4z\"/>\n",
              "    </g>\n",
              "</svg>\n",
              "  </button>\n",
              "\n",
              "<style>\n",
              "  .colab-df-quickchart {\n",
              "      --bg-color: #E8F0FE;\n",
              "      --fill-color: #1967D2;\n",
              "      --hover-bg-color: #E2EBFA;\n",
              "      --hover-fill-color: #174EA6;\n",
              "      --disabled-fill-color: #AAA;\n",
              "      --disabled-bg-color: #DDD;\n",
              "  }\n",
              "\n",
              "  [theme=dark] .colab-df-quickchart {\n",
              "      --bg-color: #3B4455;\n",
              "      --fill-color: #D2E3FC;\n",
              "      --hover-bg-color: #434B5C;\n",
              "      --hover-fill-color: #FFFFFF;\n",
              "      --disabled-bg-color: #3B4455;\n",
              "      --disabled-fill-color: #666;\n",
              "  }\n",
              "\n",
              "  .colab-df-quickchart {\n",
              "    background-color: var(--bg-color);\n",
              "    border: none;\n",
              "    border-radius: 50%;\n",
              "    cursor: pointer;\n",
              "    display: none;\n",
              "    fill: var(--fill-color);\n",
              "    height: 32px;\n",
              "    padding: 0;\n",
              "    width: 32px;\n",
              "  }\n",
              "\n",
              "  .colab-df-quickchart:hover {\n",
              "    background-color: var(--hover-bg-color);\n",
              "    box-shadow: 0 1px 2px rgba(60, 64, 67, 0.3), 0 1px 3px 1px rgba(60, 64, 67, 0.15);\n",
              "    fill: var(--button-hover-fill-color);\n",
              "  }\n",
              "\n",
              "  .colab-df-quickchart-complete:disabled,\n",
              "  .colab-df-quickchart-complete:disabled:hover {\n",
              "    background-color: var(--disabled-bg-color);\n",
              "    fill: var(--disabled-fill-color);\n",
              "    box-shadow: none;\n",
              "  }\n",
              "\n",
              "  .colab-df-spinner {\n",
              "    border: 2px solid var(--fill-color);\n",
              "    border-color: transparent;\n",
              "    border-bottom-color: var(--fill-color);\n",
              "    animation:\n",
              "      spin 1s steps(1) infinite;\n",
              "  }\n",
              "\n",
              "  @keyframes spin {\n",
              "    0% {\n",
              "      border-color: transparent;\n",
              "      border-bottom-color: var(--fill-color);\n",
              "      border-left-color: var(--fill-color);\n",
              "    }\n",
              "    20% {\n",
              "      border-color: transparent;\n",
              "      border-left-color: var(--fill-color);\n",
              "      border-top-color: var(--fill-color);\n",
              "    }\n",
              "    30% {\n",
              "      border-color: transparent;\n",
              "      border-left-color: var(--fill-color);\n",
              "      border-top-color: var(--fill-color);\n",
              "      border-right-color: var(--fill-color);\n",
              "    }\n",
              "    40% {\n",
              "      border-color: transparent;\n",
              "      border-right-color: var(--fill-color);\n",
              "      border-top-color: var(--fill-color);\n",
              "    }\n",
              "    60% {\n",
              "      border-color: transparent;\n",
              "      border-right-color: var(--fill-color);\n",
              "    }\n",
              "    80% {\n",
              "      border-color: transparent;\n",
              "      border-right-color: var(--fill-color);\n",
              "      border-bottom-color: var(--fill-color);\n",
              "    }\n",
              "    90% {\n",
              "      border-color: transparent;\n",
              "      border-bottom-color: var(--fill-color);\n",
              "    }\n",
              "  }\n",
              "</style>\n",
              "\n",
              "  <script>\n",
              "    async function quickchart(key) {\n",
              "      const quickchartButtonEl =\n",
              "        document.querySelector('#' + key + ' button');\n",
              "      quickchartButtonEl.disabled = true;  // To prevent multiple clicks.\n",
              "      quickchartButtonEl.classList.add('colab-df-spinner');\n",
              "      try {\n",
              "        const charts = await google.colab.kernel.invokeFunction(\n",
              "            'suggestCharts', [key], {});\n",
              "      } catch (error) {\n",
              "        console.error('Error during call to suggestCharts:', error);\n",
              "      }\n",
              "      quickchartButtonEl.classList.remove('colab-df-spinner');\n",
              "      quickchartButtonEl.classList.add('colab-df-quickchart-complete');\n",
              "    }\n",
              "    (() => {\n",
              "      let quickchartButtonEl =\n",
              "        document.querySelector('#df-04802553-62c1-4640-80d4-5dd5730c54ae button');\n",
              "      quickchartButtonEl.style.display =\n",
              "        google.colab.kernel.accessAllowed ? 'block' : 'none';\n",
              "    })();\n",
              "  </script>\n",
              "</div>\n",
              "    </div>\n",
              "  </div>\n"
            ],
            "text/plain": [
              "                     Time Driver  DriverNumber                 LapTime  \\\n",
              "0  0 days 00:08:53.241000    GAS            10  0 days 00:01:45.060000   \n",
              "1  0 days 00:10:26.613000    GAS            10  0 days 00:01:33.372000   \n",
              "2  0 days 00:11:59.474000    GAS            10  0 days 00:01:32.861000   \n",
              "3  0 days 00:13:31.658000    GAS            10  0 days 00:01:32.184000   \n",
              "4  0 days 00:15:03.990000    GAS            10  0 days 00:01:32.332000   \n",
              "\n",
              "   LapNumber  Stint PitOutTime PitInTime             Sector1Time  \\\n",
              "0        1.0    NaN        NaN       NaN                     NaN   \n",
              "1        2.0    1.0        NaN       NaN  0 days 00:00:31.357000   \n",
              "2        3.0    1.0        NaN       NaN  0 days 00:00:31.160000   \n",
              "3        4.0    1.0        NaN       NaN  0 days 00:00:30.835000   \n",
              "4        5.0    1.0        NaN       NaN  0 days 00:00:30.716000   \n",
              "\n",
              "              Sector2Time             Sector3Time      Sector1SessionTime  \\\n",
              "0  0 days 00:00:25.495000  0 days 00:00:37.955000                     NaN   \n",
              "1  0 days 00:00:24.825000  0 days 00:00:37.190000  0 days 00:09:24.632000   \n",
              "2  0 days 00:00:24.725000  0 days 00:00:36.976000  0 days 00:10:57.807000   \n",
              "3  0 days 00:00:24.730000  0 days 00:00:36.619000  0 days 00:12:30.343000   \n",
              "4  0 days 00:00:24.821000  0 days 00:00:36.795000  0 days 00:14:02.408000   \n",
              "\n",
              "       Sector2SessionTime      Sector3SessionTime  SpeedI1  SpeedI2  SpeedFL  \\\n",
              "0  0 days 00:08:15.609000  0 days 00:08:53.829000    257.0    283.0    286.0   \n",
              "1  0 days 00:09:49.457000  0 days 00:10:26.647000    266.0    286.0    277.0   \n",
              "2  0 days 00:11:22.532000  0 days 00:11:59.508000    260.0    283.0    294.0   \n",
              "3  0 days 00:12:55.073000  0 days 00:13:31.692000    264.0    283.0    294.0   \n",
              "4  0 days 00:14:27.229000  0 days 00:15:04.024000    266.0    283.0    283.0   \n",
              "\n",
              "   SpeedST IsPersonalBest   Compound  TyreLife  FreshTyre        Team  \\\n",
              "0    237.0          False        NaN       NaN       True  Toro Rosso   \n",
              "1    270.0           True  ULTRASOFT       1.0       True  Toro Rosso   \n",
              "2    277.0           True  ULTRASOFT       2.0       True  Toro Rosso   \n",
              "3    296.0           True  ULTRASOFT       3.0       True  Toro Rosso   \n",
              "4    295.0          False  ULTRASOFT       4.0       True  Toro Rosso   \n",
              "\n",
              "             LapStartTime             LapStartDate  TrackStatus  Position  \\\n",
              "0  0 days 00:07:07.988000  2018-03-25 05:13:19.169          1.0      17.0   \n",
              "1  0 days 00:08:53.241000  2018-03-25 05:15:04.422          1.0      17.0   \n",
              "2  0 days 00:10:26.613000  2018-03-25 05:16:37.794          1.0      17.0   \n",
              "3  0 days 00:11:59.474000  2018-03-25 05:18:10.655          1.0      17.0   \n",
              "4  0 days 00:13:31.658000  2018-03-25 05:19:42.839          2.0      17.0   \n",
              "\n",
              "   Deleted DeletedReason  FastF1Generated  IsAccurate     uid  AirTemp  \\\n",
              "0    False           NaN            False       False  2018_1     24.2   \n",
              "1    False           NaN            False        True  2018_1     24.2   \n",
              "2    False           NaN            False        True  2018_1     23.9   \n",
              "3    False           NaN            False        True  2018_1     23.8   \n",
              "4    False           NaN            False        True  2018_1     23.5   \n",
              "\n",
              "   Humidity  Pressure  Rainfall  TrackTemp  WindDirection  WindSpeed  \n",
              "0      36.3     997.0     False       38.9            307        4.1  \n",
              "1      36.3     996.9     False       38.2            296        3.8  \n",
              "2      36.5     997.1     False       36.7            289        4.3  \n",
              "3      35.7     997.1     False       36.6            210        2.7  \n",
              "4      36.3     997.2     False       36.4            267        2.5  "
            ]
          },
          "execution_count": 15,
          "metadata": {},
          "output_type": "execute_result"
        }
      ],
      "source": [
        "df_complete.head()"
      ]
    },
    {
      "cell_type": "markdown",
      "metadata": {
        "id": "AHFATi4lsITX"
      },
      "source": [
        "# Pre-processing"
      ]
    },
    {
      "cell_type": "markdown",
      "metadata": {
        "id": "RrR2aV6psLDO"
      },
      "source": [
        "Delete all first laps"
      ]
    },
    {
      "cell_type": "code",
      "execution_count": null,
      "metadata": {
        "id": "3zHMruOgsNyu"
      },
      "outputs": [],
      "source": [
        "# Delete all first laps\n",
        "df_complete = df_complete[df_complete[\"LapNumber\"]!= 1.0]"
      ]
    },
    {
      "cell_type": "markdown",
      "metadata": {
        "id": "NB66DgrLsT6X"
      },
      "source": [
        "Feature selection"
      ]
    },
    {
      "cell_type": "code",
      "execution_count": null,
      "metadata": {
        "colab": {
          "base_uri": "https://localhost:8080/"
        },
        "id": "AxZoxlm6sWA-",
        "outputId": "c419aa51-590d-453b-edcc-fe6e57952d61"
      },
      "outputs": [
        {
          "name": "stdout",
          "output_type": "stream",
          "text": [
            "(133627, 18)\n"
          ]
        }
      ],
      "source": [
        "# Select the variables that we will be using --> zie notities pre-processing\n",
        "df_complete = df_complete[[\"uid\", \"Driver\", \"LapTime\", \"Stint\", \"PitOutTime\", \"PitInTime\", \"Compound\", \"TyreLife\", \"Team\", \"TrackStatus\", \"Position\",\n",
        "                           \"AirTemp\", \"Humidity\", \"Pressure\", \"Rainfall\", \"TrackTemp\", \"WindDirection\", \"WindSpeed\"]]\n",
        "\n",
        "print(df_complete.shape)"
      ]
    },
    {
      "cell_type": "markdown",
      "metadata": {
        "id": "nN2S8ua-sY45"
      },
      "source": [
        "Feature creation - Laptype"
      ]
    },
    {
      "cell_type": "code",
      "execution_count": null,
      "metadata": {
        "id": "_0KfGAShscGf"
      },
      "outputs": [],
      "source": [
        "def get_lap_type(row):\n",
        "    if pd.notnull(row['PitInTime']):\n",
        "        return 'InLap'\n",
        "    elif pd.notnull(row['PitOutTime']):\n",
        "        return 'Outlap'\n",
        "    else:\n",
        "        return 'Lap'"
      ]
    },
    {
      "cell_type": "code",
      "execution_count": null,
      "metadata": {
        "id": "7MSpoKG3shc6"
      },
      "outputs": [],
      "source": [
        "# Apply the function to create new column \"LapType\"\n",
        "df_complete['LapType'] = df_complete.apply(get_lap_type, axis=1)\n",
        "df_complete.drop([\"PitOutTime\", \"PitInTime\"], axis=1, inplace=True)"
      ]
    },
    {
      "cell_type": "markdown",
      "metadata": {
        "id": "Ef6bFIRjsime"
      },
      "source": [
        "Missing values inspection"
      ]
    },
    {
      "cell_type": "code",
      "execution_count": null,
      "metadata": {
        "colab": {
          "base_uri": "https://localhost:8080/"
        },
        "id": "72hxb2GRslAW",
        "outputId": "67ac2544-232d-4aa1-e087-7a7bac4c0c4a"
      },
      "outputs": [
        {
          "data": {
            "text/plain": [
              "2941"
            ]
          },
          "execution_count": 20,
          "metadata": {},
          "output_type": "execute_result"
        }
      ],
      "source": [
        "df_complete.isna().sum().sum()"
      ]
    },
    {
      "cell_type": "markdown",
      "metadata": {
        "id": "lmXLXmsJsnd3"
      },
      "source": [
        "Lap Time pre-processing"
      ]
    },
    {
      "cell_type": "code",
      "execution_count": null,
      "metadata": {
        "id": "we7VK93DsqXW"
      },
      "outputs": [],
      "source": [
        "# Make LapTime of type timedelta\n",
        "df_complete[\"LapTime\"] = pd.to_timedelta(df_complete[\"LapTime\"])"
      ]
    },
    {
      "cell_type": "code",
      "execution_count": null,
      "metadata": {
        "id": "AamNm9JysqTm"
      },
      "outputs": [],
      "source": [
        "# Custom function to convert timedelta to milliseconds\n",
        "def convert_timedelta_to_milliseconds(td):\n",
        "    return td.total_seconds() * 1000 + td.microseconds / 1000\n",
        "\n",
        "# Apply the custom function to the 'lap_time' columm\n",
        "df_complete['LapTime'] = df_complete['LapTime'].apply(convert_timedelta_to_milliseconds)"
      ]
    },
    {
      "cell_type": "markdown",
      "metadata": {
        "id": "Gi6ioe7Dvclt"
      },
      "source": [
        "Make distinction between rain and no rain races"
      ]
    },
    {
      "cell_type": "code",
      "execution_count": null,
      "metadata": {
        "id": "RTQFfFl1vfzc"
      },
      "outputs": [],
      "source": [
        "# Group by 'uid' and check if any lap had rainfall\n",
        "rainfall_races = df_complete.groupby('uid')['Rainfall'].any()\n",
        "\n",
        "# Extract uids where rainfall was present\n",
        "rainfall_uids = rainfall_races[rainfall_races].index\n",
        "\n",
        "# Extract uids where no rainfall was present\n",
        "no_rainfall_uids = rainfall_races[~rainfall_races].index\n",
        "\n",
        "# Dataframe with races where rainfall was present\n",
        "rainfall_df = df_complete[df_complete['uid'].isin(rainfall_uids)]\n",
        "\n",
        "# Dataframe with races where no rainfall was present\n",
        "no_rainfall_df = df_complete[df_complete['uid'].isin(no_rainfall_uids)]"
      ]
    },
    {
      "cell_type": "code",
      "execution_count": null,
      "metadata": {
        "colab": {
          "base_uri": "https://localhost:8080/"
        },
        "id": "ejXJ_y7Ovir8",
        "outputId": "5d9efcff-4250-4933-fc07-934967674910"
      },
      "outputs": [
        {
          "name": "stdout",
          "output_type": "stream",
          "text": [
            "(18808, 17)\n",
            "(114819, 17)\n"
          ]
        }
      ],
      "source": [
        "print(rainfall_df.shape)\n",
        "print(no_rainfall_df.shape)"
      ]
    },
    {
      "cell_type": "markdown",
      "metadata": {
        "id": "m7-9-3WjvtXu"
      },
      "source": [
        "create windows - univariate - NO rain"
      ]
    },
    {
      "cell_type": "code",
      "execution_count": null,
      "metadata": {
        "id": "WjYHrzT-vnlV"
      },
      "outputs": [],
      "source": [
        "# Group by \"uid\" and \"Driver\"\n",
        "no_rainfall_df = no_rainfall_df.groupby([\"uid\", \"Driver\"])\n",
        "\n",
        "# Initialize an empty array to append the resulting arrays\n",
        "\n",
        "total_input_windows_u = np.empty((0, 10))\n",
        "total_output_windows_u = np.empty((0, 10))\n",
        "\n",
        "# Iterate over each group and convert to sliding windows\n",
        "for (uid, driver), groupu in no_rainfall_df:\n",
        "\n",
        "   input_seq_u = groupu[\"LapTime\"].to_list()\n",
        "\n",
        "   # Make sure that sequences that have less than 20 data points are not included\n",
        "   if len(input_seq_u) < 20:\n",
        "      continue\n",
        "\n",
        "   output_multi_u = pd.concat([groupu[\"LapTime\"], groupu[\"LapTime\"].shift(-1), groupu[\"LapTime\"].shift(-2),\n",
        "                          groupu[\"LapTime\"].shift(-3), groupu[\"LapTime\"].shift(-4), groupu[\"LapTime\"].shift(-5), groupu[\"LapTime\"].shift(-6),\n",
        "                          groupu[\"LapTime\"].shift(-7), groupu[\"LapTime\"].shift(-8), groupu[\"LapTime\"].shift(-9)], axis=1).to_numpy().tolist()\n",
        "\n",
        "   ts_generator_u = TimeseriesGenerator(input_seq_u, output_multi_u, length = 10)\n",
        "\n",
        "   input_windows_u = ts_generator_u[0][0][:-9] # --> [:-4] because the last n widows (n = how many shifts are executed) are not complete (non existent)\n",
        "   output_windows_u = ts_generator_u[0][1][:-9]\n",
        "\n",
        "   total_input_windows_u = np.vstack((total_input_windows_u, input_windows_u))\n",
        "   total_output_windows_u = np.vstack((total_output_windows_u, output_windows_u))"
      ]
    },
    {
      "cell_type": "code",
      "execution_count": null,
      "metadata": {
        "colab": {
          "base_uri": "https://localhost:8080/"
        },
        "id": "2sqvF-3rv0Bq",
        "outputId": "53e31a5f-7fcd-4fb9-c534-44030b6099c6"
      },
      "outputs": [
        {
          "name": "stdout",
          "output_type": "stream",
          "text": [
            "(76102, 10)\n",
            "(76102, 10)\n"
          ]
        }
      ],
      "source": [
        "print(total_output_windows_u.shape)\n",
        "print(total_input_windows_u.shape)"
      ]
    },
    {
      "cell_type": "markdown",
      "metadata": {
        "id": "8H7sVQyIwTn-"
      },
      "source": [
        "create windows - univariate - rain"
      ]
    },
    {
      "cell_type": "code",
      "execution_count": null,
      "metadata": {
        "id": "OcbGjbSDwZ1k"
      },
      "outputs": [],
      "source": [
        "# Group by \"uid\" and \"Driver\"\n",
        "rainfall_df = rainfall_df.groupby([\"uid\", \"Driver\"])\n",
        "\n",
        "# Initialize an empty array to append the resulting arrays\n",
        "\n",
        "total_input_windows_u_r = np.empty((0, 10))\n",
        "total_output_windows_u_r = np.empty((0, 10))\n",
        "\n",
        "# Iterate over each group and convert to sliding windows\n",
        "for (uid, driver), groupu in rainfall_df:\n",
        "\n",
        "   input_seq_u = groupu[\"LapTime\"].to_list()\n",
        "\n",
        "   # Make sure that sequences that have less than 20 data points are not included\n",
        "   if len(input_seq_u) < 20:\n",
        "      continue\n",
        "\n",
        "   output_multi_u = pd.concat([groupu[\"LapTime\"], groupu[\"LapTime\"].shift(-1), groupu[\"LapTime\"].shift(-2),\n",
        "                          groupu[\"LapTime\"].shift(-3), groupu[\"LapTime\"].shift(-4), groupu[\"LapTime\"].shift(-5), groupu[\"LapTime\"].shift(-6),\n",
        "                          groupu[\"LapTime\"].shift(-7), groupu[\"LapTime\"].shift(-8), groupu[\"LapTime\"].shift(-9)], axis=1).to_numpy().tolist()\n",
        "\n",
        "   ts_generator_u = TimeseriesGenerator(input_seq_u, output_multi_u, length = 10)\n",
        "\n",
        "   input_windows_u = ts_generator_u[0][0][:-9] # --> [:-4] because the last n widows (n = how many shifts are executed) are not complete (non existent)\n",
        "   output_windows_u = ts_generator_u[0][1][:-9]\n",
        "\n",
        "   total_input_windows_u_r = np.vstack((total_input_windows_u_r, input_windows_u))\n",
        "   total_output_windows_u_r = np.vstack((total_output_windows_u_r, output_windows_u))"
      ]
    },
    {
      "cell_type": "code",
      "execution_count": null,
      "metadata": {
        "colab": {
          "base_uri": "https://localhost:8080/"
        },
        "id": "T1WV9I_mwp-m",
        "outputId": "c2e86b6d-c17f-4957-ddd9-20f245cb4ba7"
      },
      "outputs": [
        {
          "name": "stdout",
          "output_type": "stream",
          "text": [
            "(12655, 10)\n",
            "(12655, 10)\n"
          ]
        }
      ],
      "source": [
        "print(total_output_windows_u_r.shape)\n",
        "print(total_input_windows_u_r.shape)"
      ]
    },
    {
      "cell_type": "markdown",
      "metadata": {
        "id": "hWnha-KWwuVW"
      },
      "source": [
        "Create the windows - multivariate NO rain"
      ]
    },
    {
      "cell_type": "code",
      "execution_count": null,
      "metadata": {
        "id": "iyRXjamYw3yk"
      },
      "outputs": [],
      "source": [
        "# Group by \"uid\" and \"Driver\"\n",
        "no_rainfall_df = no_rainfall_df.groupby([\"uid\", \"Driver\"])\n",
        "\n",
        "# Initialize an empty array to append the resulting arrays\n",
        "\n",
        "total_input_windows_m = np.empty((0, 10, 3))\n",
        "total_output_windows_m = np.empty((0,10))\n",
        "\n",
        "# Iterate over each group and convert to sliding windows\n",
        "for (uid, driver), groupm in no_rainfall_df:\n",
        "\n",
        "   # THIS HAS TO BE ADAPTED TO THE ENCODINGS\n",
        "   input_seq_m = groupm[[\"LapTime\", \"TrackStatus\", \"Position\"]].to_numpy().tolist()\n",
        "\n",
        "   # Make sure that sequences that have less than 20 data points are not included\n",
        "   if len(input_seq_m) < 20:\n",
        "      continue\n",
        "\n",
        "   output_multi_m = pd.concat([groupm[\"LapTime\"], groupm[\"LapTime\"].shift(-1), groupm[\"LapTime\"].shift(-2),\n",
        "                          groupm[\"LapTime\"].shift(-3), groupm[\"LapTime\"].shift(-4), groupm[\"LapTime\"].shift(-5), groupm[\"LapTime\"].shift(-6),\n",
        "                          groupm[\"LapTime\"].shift(-7), groupm[\"LapTime\"].shift(-8), groupm[\"LapTime\"].shift(-9)], axis=1).to_numpy().tolist()\n",
        "\n",
        "   ts_generator_m = TimeseriesGenerator(input_seq_m, output_multi_m, length = 10)\n",
        "\n",
        "   input_windows_m = ts_generator_m[0][0][:-9] # --> [:-4] because the last n widows (n = how many shifts are executed) are not complete (non existent)\n",
        "   output_windows_m = ts_generator_m[0][1][:-9]\n",
        "\n",
        "   total_input_windows_m = np.vstack((total_input_windows_m, input_windows_m))\n",
        "   total_output_windows_m = np.vstack((total_output_windows_m, output_windows_m))"
      ]
    },
    {
      "cell_type": "code",
      "execution_count": null,
      "metadata": {
        "colab": {
          "base_uri": "https://localhost:8080/"
        },
        "id": "R6yp-sHYyONO",
        "outputId": "54baacb7-e4b8-4c08-ca1e-8cd24915e4b2"
      },
      "outputs": [
        {
          "name": "stdout",
          "output_type": "stream",
          "text": [
            "(76102, 10)\n",
            "(76102, 10, 3)\n"
          ]
        }
      ],
      "source": [
        "print(total_output_windows_m.shape)\n",
        "print(total_input_windows_m.shape)"
      ]
    },
    {
      "cell_type": "markdown",
      "metadata": {
        "id": "JdOup42xyx77"
      },
      "source": [
        "Create the windows - multivariate rain"
      ]
    },
    {
      "cell_type": "code",
      "execution_count": null,
      "metadata": {
        "id": "ACLPqbaDy3Js"
      },
      "outputs": [],
      "source": [
        "# Group by \"uid\" and \"Driver\"\n",
        "rainfall_df = rainfall_df.groupby([\"uid\", \"Driver\"])\n",
        "\n",
        "# Initialize an empty array to append the resulting arrays\n",
        "\n",
        "total_input_windows_m_r = np.empty((0, 10, 3))\n",
        "total_output_windows_m_r = np.empty((0,10))\n",
        "\n",
        "# Iterate over each group and convert to sliding windows\n",
        "for (uid, driver), groupm in rainfall_df:\n",
        "\n",
        "   # THIS HAS TO BE ADAPTED TO THE ENCODINGS\n",
        "   input_seq_m = groupm[[\"LapTime\", \"TrackStatus\", \"Position\"]].to_numpy().tolist()\n",
        "\n",
        "   # Make sure that sequences that have less than 20 data points are not included\n",
        "   if len(input_seq_m) < 20:\n",
        "      continue\n",
        "\n",
        "   output_multi_m = pd.concat([groupm[\"LapTime\"], groupm[\"LapTime\"].shift(-1), groupm[\"LapTime\"].shift(-2),\n",
        "                          groupm[\"LapTime\"].shift(-3), groupm[\"LapTime\"].shift(-4), groupm[\"LapTime\"].shift(-5), groupm[\"LapTime\"].shift(-6),\n",
        "                          groupm[\"LapTime\"].shift(-7), groupm[\"LapTime\"].shift(-8), groupm[\"LapTime\"].shift(-9)], axis=1).to_numpy().tolist()\n",
        "\n",
        "   ts_generator_m = TimeseriesGenerator(input_seq_m, output_multi_m, length = 10)\n",
        "\n",
        "   input_windows_m = ts_generator_m[0][0][:-9] # --> [:-4] because the last n widows (n = how many shifts are executed) are not complete (non existent)\n",
        "   output_windows_m = ts_generator_m[0][1][:-9]\n",
        "\n",
        "   total_input_windows_m_r = np.vstack((total_input_windows_m_r, input_windows_m))\n",
        "   total_output_windows_m_r = np.vstack((total_output_windows_m_r, output_windows_m))"
      ]
    },
    {
      "cell_type": "code",
      "execution_count": null,
      "metadata": {
        "colab": {
          "base_uri": "https://localhost:8080/"
        },
        "id": "aQl7LTZzzJSE",
        "outputId": "e3204ca3-5976-4c30-99fc-ff182e9e4ac3"
      },
      "outputs": [
        {
          "name": "stdout",
          "output_type": "stream",
          "text": [
            "(12655, 10)\n",
            "(12655, 10, 3)\n"
          ]
        }
      ],
      "source": [
        "print(total_output_windows_m_r.shape)\n",
        "print(total_input_windows_m_r.shape)"
      ]
    },
    {
      "cell_type": "markdown",
      "metadata": {
        "id": "ISFef2L21w6p"
      },
      "source": [
        "Dealing with missing values for laptimes - individual missing"
      ]
    },
    {
      "cell_type": "code",
      "execution_count": null,
      "metadata": {
        "id": "TW65PETp13S6"
      },
      "outputs": [],
      "source": [
        "# Univariate windows - No rain\n",
        "df_uni_input = pd.DataFrame(total_input_windows_u)\n",
        "df_uni_input.fillna(axis=1, method='backfill', inplace=True)\n",
        "df_uni_input.fillna(axis=1, method='ffill', inplace=True)\n",
        "input_windows_uni = df_uni_input.to_numpy()\n",
        "\n",
        "df_uni_output = pd.DataFrame(total_input_windows_u)\n",
        "df_uni_output.fillna(axis=1, method='backfill', inplace=True)\n",
        "df_uni_output.fillna(axis=1, method='ffill', inplace=True)\n",
        "output_windows_uni = df_uni_output.to_numpy()"
      ]
    },
    {
      "cell_type": "code",
      "execution_count": null,
      "metadata": {
        "colab": {
          "base_uri": "https://localhost:8080/"
        },
        "id": "DOrmMHBI29ga",
        "outputId": "bb59d7cd-924f-4261-bde9-335ea9fb71c8"
      },
      "outputs": [
        {
          "name": "stdout",
          "output_type": "stream",
          "text": [
            "(76102, 10)\n",
            "(76102, 10)\n"
          ]
        }
      ],
      "source": [
        "print(input_windows_uni.shape)\n",
        "print(output_windows_uni.shape)"
      ]
    },
    {
      "cell_type": "code",
      "execution_count": null,
      "metadata": {
        "id": "xSt9bfym2HtK"
      },
      "outputs": [],
      "source": [
        "# Univariate windows - Rain\n",
        "df_uni_input = pd.DataFrame(total_input_windows_u_r)\n",
        "df_uni_input.fillna(axis=1, method='backfill', inplace=True)\n",
        "df_uni_input.fillna(axis=1, method='ffill', inplace=True)\n",
        "input_windows_uni_r = df_uni_input.to_numpy()\n",
        "\n",
        "df_uni_output = pd.DataFrame(total_input_windows_u_r)\n",
        "df_uni_output.fillna(axis=1, method='backfill', inplace=True)\n",
        "df_uni_output.fillna(axis=1, method='ffill', inplace=True)\n",
        "output_windows_uni_r = df_uni_output.to_numpy()"
      ]
    },
    {
      "cell_type": "code",
      "execution_count": null,
      "metadata": {
        "colab": {
          "base_uri": "https://localhost:8080/"
        },
        "id": "zzIoybJ23Etu",
        "outputId": "d6834a8e-5e82-4777-b767-a5f2aff4ddf6"
      },
      "outputs": [
        {
          "name": "stdout",
          "output_type": "stream",
          "text": [
            "(12655, 10)\n",
            "(12655, 10)\n"
          ]
        }
      ],
      "source": [
        "print(input_windows_uni_r.shape)\n",
        "print(output_windows_uni_r.shape)"
      ]
    },
    {
      "cell_type": "markdown",
      "metadata": {
        "id": "BMpZRU7q4Fu3"
      },
      "source": [
        "replace multi lap times with uni laptimes for effcient missing values handling"
      ]
    },
    {
      "cell_type": "code",
      "execution_count": null,
      "metadata": {
        "id": "PC9k6LOm4SBP"
      },
      "outputs": [],
      "source": [
        "input_windows_uni_reshaped = input_windows_uni[:, :, np.newaxis]"
      ]
    },
    {
      "cell_type": "code",
      "execution_count": null,
      "metadata": {
        "id": "CQiR4-5U4hxf"
      },
      "outputs": [],
      "source": [
        "input_windows_multi = np.concatenate((input_windows_uni_reshaped, total_input_windows_m),\n",
        "                                     axis=2)\n",
        "input_windows_multi = np.delete(input_windows_multi, 1, axis=2)"
      ]
    },
    {
      "cell_type": "code",
      "execution_count": null,
      "metadata": {
        "colab": {
          "base_uri": "https://localhost:8080/"
        },
        "id": "1kj_eIY46CsF",
        "outputId": "91e3e788-f112-45a7-efa5-10f9c891352c"
      },
      "outputs": [
        {
          "name": "stdout",
          "output_type": "stream",
          "text": [
            "(76102, 10, 3)\n"
          ]
        }
      ],
      "source": [
        "print(input_windows_multi.shape)"
      ]
    },
    {
      "cell_type": "code",
      "execution_count": null,
      "metadata": {
        "id": "6w6t400I6KOX"
      },
      "outputs": [],
      "source": [
        "input_windows_uni_r_reshaped = input_windows_uni_r[:, :, np.newaxis]"
      ]
    },
    {
      "cell_type": "code",
      "execution_count": null,
      "metadata": {
        "id": "CQn1LrJC6KLA"
      },
      "outputs": [],
      "source": [
        "input_windows_multi_r = np.concatenate((input_windows_uni_r_reshaped, total_input_windows_m_r),\n",
        "                                     axis=2)\n",
        "input_windows_multi_r = np.delete(input_windows_multi_r, 1, axis=2)"
      ]
    },
    {
      "cell_type": "code",
      "execution_count": null,
      "metadata": {
        "colab": {
          "base_uri": "https://localhost:8080/"
        },
        "id": "rt1b1ZHj6cGp",
        "outputId": "362efcbe-e474-469c-d5d0-df472aa8de99"
      },
      "outputs": [
        {
          "name": "stdout",
          "output_type": "stream",
          "text": [
            "(12655, 10, 3)\n"
          ]
        }
      ],
      "source": [
        "print(input_windows_multi_r.shape)"
      ]
    },
    {
      "cell_type": "markdown",
      "metadata": {
        "id": "NZAKwfkV6k3S"
      },
      "source": [
        "Encoding"
      ]
    },
    {
      "cell_type": "code",
      "execution_count": null,
      "metadata": {
        "id": "iqW-E_Gk6ygh"
      },
      "outputs": [],
      "source": [
        "# Define column indices for numerical and categorical columns\n",
        "numerical_columns = [0,2]\n",
        "track_status_column = [1]\n",
        "\n",
        "# Separate numerical and categorical data using column indices\n",
        "numerical_data = input_windows_multi[:, :, numerical_columns].reshape(-1, len(numerical_columns))\n",
        "track_status = input_windows_multi[:, :, track_status_column].reshape(-1, len(track_status_column))"
      ]
    },
    {
      "cell_type": "code",
      "execution_count": null,
      "metadata": {
        "id": "ATky9R_K7xlf"
      },
      "outputs": [],
      "source": [
        "# Separate numerical and categorical data using column indices\n",
        "numerical_data_r = input_windows_multi_r[:, :, numerical_columns].reshape(-1, len(numerical_columns))\n",
        "track_status_r = input_windows_multi_r[:, :, track_status_column].reshape(-1, len(track_status_column))"
      ]
    },
    {
      "cell_type": "code",
      "execution_count": null,
      "metadata": {
        "colab": {
          "base_uri": "https://localhost:8080/"
        },
        "id": "MDMXsGUW8bY3",
        "outputId": "b9c08884-32ec-40e7-a8ca-63dab1c2b1b6"
      },
      "outputs": [
        {
          "name": "stdout",
          "output_type": "stream",
          "text": [
            "(761020, 2)\n",
            "(761020, 1)\n",
            "(126550, 2)\n",
            "(126550, 1)\n"
          ]
        }
      ],
      "source": [
        "print(numerical_data.shape)\n",
        "print(track_status.shape)\n",
        "print(numerical_data_r.shape)\n",
        "print(track_status_r.shape)"
      ]
    },
    {
      "cell_type": "code",
      "execution_count": null,
      "metadata": {
        "colab": {
          "base_uri": "https://localhost:8080/"
        },
        "id": "rYwWFTF18p2R",
        "outputId": "58db3f18-bb18-4e55-c480-b7a6dff6fbb4"
      },
      "outputs": [
        {
          "data": {
            "text/plain": [
              "array(['1', '2', '4', '5', '6', '7'], dtype=object)"
            ]
          },
          "execution_count": 199,
          "metadata": {},
          "output_type": "execute_result"
        }
      ],
      "source": [
        "# Encoding trackstatus - No rain\n",
        "\n",
        "# Get the track status code in the right formnat\n",
        "track_status = track_status.astype(float)\n",
        "track_status = track_status.astype(int)\n",
        "track_status = track_status.astype(str)\n",
        "\n",
        "# Transform each element into a tuple of characters\n",
        "track_status_res = np.array([tuple(val[0]) for val in track_status], dtype=object)\n",
        "\n",
        "mlb = MultiLabelBinarizer()\n",
        "track_status_encoded = mlb.fit_transform(track_status_res)\n",
        "mlb.classes_"
      ]
    },
    {
      "cell_type": "code",
      "execution_count": null,
      "metadata": {
        "colab": {
          "base_uri": "https://localhost:8080/"
        },
        "id": "INEs8zbE9FLF",
        "outputId": "66a87d4f-375e-4b6e-af08-aa72cb4951a3"
      },
      "outputs": [
        {
          "data": {
            "text/plain": [
              "array(['1', '2', '4', '5', '6', '7'], dtype=object)"
            ]
          },
          "execution_count": 200,
          "metadata": {},
          "output_type": "execute_result"
        }
      ],
      "source": [
        "# Encoding trackstatus - rain\n",
        "\n",
        "# Get the track status code in the right formnat\n",
        "track_status_r = track_status_r.astype(float)\n",
        "track_status_r = track_status_r.astype(int)\n",
        "track_status_r = track_status_r.astype(str)\n",
        "\n",
        "# Transform each element into a tuple of characters\n",
        "track_status_resh = np.array([tuple(val[0]) for val in track_status_r], dtype=object)\n",
        "\n",
        "mlb = MultiLabelBinarizer()\n",
        "track_status_encoded_r = mlb.fit_transform(track_status_resh)\n",
        "mlb.classes_"
      ]
    },
    {
      "cell_type": "code",
      "execution_count": null,
      "metadata": {
        "colab": {
          "base_uri": "https://localhost:8080/"
        },
        "id": "6UlU1eKI9UwO",
        "outputId": "0ddea843-8737-4ada-ab6f-f5f17aaeb167"
      },
      "outputs": [
        {
          "name": "stdout",
          "output_type": "stream",
          "text": [
            "(761020, 2)\n",
            "(761020, 6)\n"
          ]
        }
      ],
      "source": [
        "print(numerical_data.shape)\n",
        "print(track_status_encoded.shape)"
      ]
    },
    {
      "cell_type": "code",
      "execution_count": null,
      "metadata": {
        "colab": {
          "base_uri": "https://localhost:8080/"
        },
        "id": "--g-thSP9ZWN",
        "outputId": "3cb329ff-9ff2-4238-850c-8a86d66f62a6"
      },
      "outputs": [
        {
          "name": "stdout",
          "output_type": "stream",
          "text": [
            "(126550, 2)\n",
            "(126550, 6)\n"
          ]
        }
      ],
      "source": [
        "print(numerical_data_r.shape)\n",
        "print(track_status_encoded_r.shape)"
      ]
    },
    {
      "cell_type": "code",
      "execution_count": null,
      "metadata": {
        "id": "RouZQmmb9uvS"
      },
      "outputs": [],
      "source": [
        "numerical_data = numerical_data.astype(float)\n",
        "track_status_encoded = track_status_encoded.astype(float)\n",
        "numerical_data_r = numerical_data_r.astype(float)\n",
        "track_status_encoded_r = track_status_encoded_r.astype(float)"
      ]
    },
    {
      "cell_type": "code",
      "execution_count": null,
      "metadata": {
        "id": "_qTI7jD8-Aa2"
      },
      "outputs": [],
      "source": [
        "# Concatenate numerical and encoded categorical data along axis=1\n",
        "encoded_data = np.concatenate((numerical_data, track_status_encoded), axis=1)\n",
        "encoded_data_r = np.concatenate((numerical_data_r, track_status_encoded_r), axis=1)"
      ]
    },
    {
      "cell_type": "code",
      "execution_count": null,
      "metadata": {
        "colab": {
          "base_uri": "https://localhost:8080/"
        },
        "id": "VweeB4CQ-WWe",
        "outputId": "51da22a8-9f44-4603-c79d-4d26aaf4ec1e"
      },
      "outputs": [
        {
          "name": "stdout",
          "output_type": "stream",
          "text": [
            "(761020, 8)\n",
            "(126550, 8)\n"
          ]
        }
      ],
      "source": [
        "print(encoded_data.shape)\n",
        "print(encoded_data_r.shape)"
      ]
    },
    {
      "cell_type": "code",
      "execution_count": null,
      "metadata": {
        "colab": {
          "base_uri": "https://localhost:8080/"
        },
        "id": "nClgZQ64-8KG",
        "outputId": "f2a48665-0c83-43d5-debe-1efd6e7eebe5"
      },
      "outputs": [
        {
          "name": "stdout",
          "output_type": "stream",
          "text": [
            "(76102, 10, 8)\n"
          ]
        }
      ],
      "source": [
        "input_windows_multi_encoded = encoded_data.reshape(76102, 10, encoded_data.shape[1])\n",
        "print(input_windows_multi_encoded.shape)"
      ]
    },
    {
      "cell_type": "code",
      "execution_count": null,
      "metadata": {
        "colab": {
          "base_uri": "https://localhost:8080/"
        },
        "id": "Ct0gKsUo_POU",
        "outputId": "6e319e5e-7184-4b0a-9a10-ca4752e4aa0e"
      },
      "outputs": [
        {
          "name": "stdout",
          "output_type": "stream",
          "text": [
            "(12655, 10, 8)\n"
          ]
        }
      ],
      "source": [
        "input_windows_multi_encoded_r = encoded_data_r.reshape(12655, 10, encoded_data_r.shape[1])\n",
        "print(input_windows_multi_encoded_r.shape)"
      ]
    },
    {
      "cell_type": "markdown",
      "metadata": {
        "id": "nC4nNbJB-ull"
      },
      "source": [
        "Normalising"
      ]
    },
    {
      "cell_type": "code",
      "execution_count": null,
      "metadata": {
        "colab": {
          "base_uri": "https://localhost:8080/"
        },
        "id": "ju0RhKZ5-w20",
        "outputId": "91dddc60-9a31-4e38-8a8d-ebb3f726e672"
      },
      "outputs": [
        {
          "name": "stdout",
          "output_type": "stream",
          "text": [
            "(76102, 10)\n",
            "(12655, 10)\n",
            "\n",
            "(76102, 10, 8)\n",
            "(12655, 10, 8)\n"
          ]
        }
      ],
      "source": [
        "print(input_windows_uni.shape)\n",
        "print(input_windows_uni_r.shape)\n",
        "print()\n",
        "print(input_windows_multi_encoded.shape)\n",
        "print(input_windows_multi_encoded_r.shape)"
      ]
    },
    {
      "cell_type": "code",
      "execution_count": null,
      "metadata": {
        "colab": {
          "base_uri": "https://localhost:8080/"
        },
        "id": "GHl0WXMb-ws0",
        "outputId": "d189e411-6bbe-4247-a760-b8de569e723f"
      },
      "outputs": [
        {
          "name": "stdout",
          "output_type": "stream",
          "text": [
            "(76102, 10)\n",
            "(12655, 10)\n"
          ]
        }
      ],
      "source": [
        "print(output_windows_uni.shape)\n",
        "print(output_windows_uni_r.shape)"
      ]
    },
    {
      "cell_type": "code",
      "execution_count": null,
      "metadata": {
        "id": "vRL5Akt5AOp1"
      },
      "outputs": [],
      "source": [
        "# univaroates\n",
        "scaler = StandardScaler()\n",
        "\n",
        "input_windows_uni = scaler.fit_transform(input_windows_uni)\n",
        "input_windows_uni_r = scaler.fit_transform(input_windows_uni_r)"
      ]
    },
    {
      "cell_type": "code",
      "execution_count": null,
      "metadata": {
        "colab": {
          "base_uri": "https://localhost:8080/"
        },
        "id": "hiVZW1UuAvzD",
        "outputId": "109f64a0-9a71-47c8-a62d-3a72b9370b1f"
      },
      "outputs": [
        {
          "name": "stdout",
          "output_type": "stream",
          "text": [
            "(76102, 10, 2)\n",
            "(76102, 10, 6)\n"
          ]
        }
      ],
      "source": [
        "# multivariate\n",
        "numericals = input_windows_multi_encoded[:,:,:2]\n",
        "categoricals = input_windows_multi_encoded[:,:,2:]\n",
        "print(numericals.shape)\n",
        "print(categoricals.shape)"
      ]
    },
    {
      "cell_type": "code",
      "execution_count": null,
      "metadata": {
        "id": "CXLklP2NBWkC"
      },
      "outputs": [],
      "source": [
        "# Standardize only numerical values\n",
        "scaler = StandardScaler()\n",
        "\n",
        "# Reshape the multi input nto a 2D array\n",
        "num_samples, num_timesteps, num_features = numericals.shape\n",
        "numericals_2d = numericals.reshape(num_samples * num_timesteps, num_features)\n",
        "\n",
        "numericals_std_2d = scaler.fit_transform(numericals_2d)\n",
        "\n",
        "# Reshape multi input back to 3D array\n",
        "numericals_std = numericals_std_2d.reshape(num_samples, num_timesteps, num_features)"
      ]
    },
    {
      "cell_type": "code",
      "execution_count": null,
      "metadata": {
        "id": "BvKCRJjaBh66"
      },
      "outputs": [],
      "source": [
        "# concatenate categoricals and numericals_std\n",
        "input_windows_multi =  np.concatenate((numericals_std, categoricals), axis=2)"
      ]
    },
    {
      "cell_type": "code",
      "execution_count": null,
      "metadata": {
        "colab": {
          "base_uri": "https://localhost:8080/"
        },
        "id": "ZzZN3MfRBL76",
        "outputId": "47595c6d-c439-4d5f-9a26-00141752c712"
      },
      "outputs": [
        {
          "name": "stdout",
          "output_type": "stream",
          "text": [
            "(12655, 10, 2)\n",
            "(12655, 10, 6)\n"
          ]
        }
      ],
      "source": [
        "numericals_r = input_windows_multi_encoded_r[:,:,:2]\n",
        "categoricals_r = input_windows_multi_encoded_r[:,:,2:]\n",
        "print(numericals_r.shape)\n",
        "print(categoricals_r.shape)"
      ]
    },
    {
      "cell_type": "code",
      "execution_count": null,
      "metadata": {
        "id": "3whp1QfQCq4O"
      },
      "outputs": [],
      "source": [
        "# Normalise all values\n",
        "scaler = StandardScaler()\n",
        "\n",
        "# Standardize alleen de numerical values\n",
        "\n",
        "# Reshape the multi input nto a 2D array\n",
        "num_samples, num_timesteps, num_features = numericals_r.shape\n",
        "numericals_2d = numericals_r.reshape(num_samples * num_timesteps, num_features)\n",
        "\n",
        "numericals_std_2d = scaler.fit_transform(numericals_2d)\n",
        "\n",
        "# Reshape multi input back to 3D array\n",
        "numericals_std = numericals_std_2d.reshape(num_samples, num_timesteps, num_features)"
      ]
    },
    {
      "cell_type": "code",
      "execution_count": null,
      "metadata": {
        "id": "m8Ur80_fC2CC"
      },
      "outputs": [],
      "source": [
        "# concatenate categoricals and numericals_std\n",
        "input_windows_multi_r =  np.concatenate((numericals_std, categoricals_r), axis=2)"
      ]
    },
    {
      "cell_type": "markdown",
      "metadata": {
        "id": "CxD2nMSDEELB"
      },
      "source": [
        "# Check and save"
      ]
    },
    {
      "cell_type": "code",
      "execution_count": null,
      "metadata": {
        "colab": {
          "base_uri": "https://localhost:8080/"
        },
        "id": "bD_nt5jnEGGJ",
        "outputId": "411c1de4-87fc-442a-bfcc-3e90bdd2f5de"
      },
      "outputs": [
        {
          "name": "stdout",
          "output_type": "stream",
          "text": [
            "(76102, 10)\n",
            "(12655, 10)\n"
          ]
        }
      ],
      "source": [
        "print(input_windows_uni.shape)\n",
        "print(input_windows_uni_r.shape)"
      ]
    },
    {
      "cell_type": "code",
      "execution_count": null,
      "metadata": {
        "colab": {
          "base_uri": "https://localhost:8080/"
        },
        "id": "Pm3-GtoIESbR",
        "outputId": "95af878c-8f8e-4f08-c2e2-2327e4643b4f"
      },
      "outputs": [
        {
          "name": "stdout",
          "output_type": "stream",
          "text": [
            "(76102, 10, 8)\n",
            "(12655, 10, 8)\n"
          ]
        }
      ],
      "source": [
        "print(input_windows_multi.shape)\n",
        "print(input_windows_multi_r.shape)"
      ]
    },
    {
      "cell_type": "code",
      "execution_count": null,
      "metadata": {
        "colab": {
          "base_uri": "https://localhost:8080/"
        },
        "id": "YOjeI0WbExBp",
        "outputId": "d9bc69b1-e7dc-4151-9ab8-6cef865b7d4f"
      },
      "outputs": [
        {
          "name": "stdout",
          "output_type": "stream",
          "text": [
            "(76102, 10)\n",
            "(12655, 10)\n"
          ]
        }
      ],
      "source": [
        "print(output_windows_uni.shape)\n",
        "print(output_windows_uni_r.shape)"
      ]
    },
    {
      "cell_type": "code",
      "execution_count": null,
      "metadata": {
        "id": "4rAcZ0utFF3x"
      },
      "outputs": [],
      "source": [
        "np.save(\"input_windows_uni\", input_windows_uni)"
      ]
    },
    {
      "cell_type": "code",
      "execution_count": null,
      "metadata": {
        "id": "gWKaaZJ7FNoB"
      },
      "outputs": [],
      "source": [
        "np.save(\"input_windows_uni_r\", input_windows_uni_r)"
      ]
    },
    {
      "cell_type": "code",
      "execution_count": null,
      "metadata": {
        "id": "XPMYmOhdFRdj"
      },
      "outputs": [],
      "source": [
        "np.save(\"input_windows_multi\", input_windows_multi)"
      ]
    },
    {
      "cell_type": "code",
      "execution_count": null,
      "metadata": {
        "id": "YYK5y8ROFW92"
      },
      "outputs": [],
      "source": [
        "np.save(\"input_windows_multi_r\", input_windows_multi_r)"
      ]
    },
    {
      "cell_type": "code",
      "execution_count": null,
      "metadata": {
        "id": "naxsP8_aFezJ"
      },
      "outputs": [],
      "source": [
        "np.save(\"output_windows_uni\", output_windows_uni)"
      ]
    },
    {
      "cell_type": "code",
      "execution_count": null,
      "metadata": {
        "id": "iy8x2LpzFewq"
      },
      "outputs": [],
      "source": [
        "np.save(\"output_windows_uni_r\", output_windows_uni_r)"
      ]
    }
  ],
  "metadata": {
    "colab": {
      "provenance": []
    },
    "kernelspec": {
      "display_name": "Python 3",
      "name": "python3"
    },
    "language_info": {
      "name": "python"
    }
  },
  "nbformat": 4,
  "nbformat_minor": 0
}
